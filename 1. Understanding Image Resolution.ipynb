{
 "cells": [
  {
   "cell_type": "markdown",
   "id": "3c64c156",
   "metadata": {},
   "source": [
    "### What is Image Resolution?\n",
    "\n",
    "Imagine a mosaic made of tiny colored squares. Each square is a \"pixel,\" the smallest piece of a picture. Just like more pieces in a mosaic make the picture clearer, more pixels in an image make it more detailed. \n",
    "\n",
    "### Pixels: Tiny Dots in a Picture\n",
    "\n",
    "- **Pixel:** It's like a tiny dot in your image. Lots of pixels together make up your photo or digital image.\n",
    "- **Image Size in Pixels:** It's the number of pixels in width and height. For example, \"1024x768\" means 1024 pixels wide and 768 pixels tall.\n",
    "\n",
    "### DPI and PPI\n",
    "\n",
    "- **DPI (Dots Per Inch):** Imagine you’re printing a photo. DPI tells you how many dots of ink or color will be printed per inch. More dots mean a clearer picture, but it uses more ink.\n",
    "- **PPI (Pixels Per Inch):** This is for screens, like your phone or computer. It tells how many pixels are in one inch of the screen. More pixels mean a clearer image.\n",
    "\n",
    "### Example\n",
    "\n",
    "- A photo on your phone might be 2000x3000 pixels. It means the photo is 2000 pixels wide and 3000 pixels tall. If you zoom in, you'll see it gets pixelated (blocky) because you're looking at individual pixels!\n",
    "\n",
    "### Python Code to Check Image Resolution\n",
    "\n",
    "Here's a simple Python code to find out how many pixels are in an image:\n",
    "\n",
    "```python\n",
    "from PIL import Image\n",
    "\n",
    "def check_resolution(image_path):\n",
    "    with Image.open(image_path) as img:\n",
    "        return img.size  # This will give width and height\n",
    "\n",
    "# Example: Replace 'your_image.jpg' with your image file's name\n",
    "resolution = check_resolution('your_image.jpg')\n",
    "print(\"The image is\", resolution[0], \"pixels wide and\", resolution[1], \"pixels tall.\")\n",
    "```\n",
    "\n",
    "This code uses a library called `PIL` (Python Imaging Library) to look at your image and tell you its size in pixels.\n",
    "\n",
    "### Why Does Resolution Matter?\n",
    "\n",
    "- **High Resolution:** More pixels mean more detail. Great for big prints or high-quality screens. But the file size is bigger, so it takes more space on your computer or phone.\n",
    "- **Low Resolution:** Fewer pixels mean less detail. It’s good for quick loading on websites or small screens. But if you make it too big, it looks blurry or blocky.\n",
    "\n",
    "### Key Points\n",
    "\n",
    "1. **Resolution is about detail:** More pixels = more detail.\n",
    "2. **High resolution isn't always necessary:** Sometimes, a smaller file is more practical.\n",
    "3. **Different uses:** High resolution for printing and quality displays, lower for web use."
   ]
  },
  {
   "cell_type": "code",
   "execution_count": 1,
   "id": "84440727",
   "metadata": {},
   "outputs": [
    {
     "name": "stdout",
     "output_type": "stream",
     "text": [
      "Image Width: 970 pixels\n",
      "Image Height: 728 pixels\n",
      "Total Pixels: 706160\n",
      "This image is suitable for web use.\n"
     ]
    }
   ],
   "source": [
    "from PIL import Image\n",
    "\n",
    "def analyze_image_resolution(image_path):\n",
    "    with Image.open(image_path) as img:\n",
    "        width, height = img.size\n",
    "        resolution = width * height\n",
    "        print(f\"Image Width: {width} pixels\")\n",
    "        print(f\"Image Height: {height} pixels\")\n",
    "        print(f\"Total Pixels: {resolution}\")\n",
    "\n",
    "        if resolution > 2000000:\n",
    "            print(\"This is a high-resolution image, good for print.\")\n",
    "        elif resolution > 500000:\n",
    "            print(\"This image is suitable for web use.\")\n",
    "        else:\n",
    "            print(\"This image has low resolution, best for small web graphics.\")\n",
    "\n",
    "# Replace 'path_to_image.jpg' with the path to your image file\n",
    "analyze_image_resolution('c130.jpg')\n"
   ]
  },
  {
   "cell_type": "code",
   "execution_count": null,
   "id": "6555d8b8",
   "metadata": {},
   "outputs": [],
   "source": []
  }
 ],
 "metadata": {
  "kernelspec": {
   "display_name": "Python 3",
   "language": "python",
   "name": "python3"
  },
  "language_info": {
   "codemirror_mode": {
    "name": "ipython",
    "version": 3
   },
   "file_extension": ".py",
   "mimetype": "text/x-python",
   "name": "python",
   "nbconvert_exporter": "python",
   "pygments_lexer": "ipython3",
   "version": "3.8.8"
  }
 },
 "nbformat": 4,
 "nbformat_minor": 5
}
